{
  "nbformat": 4,
  "nbformat_minor": 0,
  "metadata": {
    "colab": {
      "provenance": [],
      "authorship_tag": "ABX9TyN7Vzv5lTyLMlec1fKpRFMc",
      "include_colab_link": true
    },
    "kernelspec": {
      "name": "python3",
      "display_name": "Python 3"
    },
    "language_info": {
      "name": "python"
    }
  },
  "cells": [
    {
      "cell_type": "markdown",
      "metadata": {
        "id": "view-in-github",
        "colab_type": "text"
      },
      "source": [
        "<a href=\"https://colab.research.google.com/github/FarizThiruthi/python/blob/main/For.ipynb\" target=\"_parent\"><img src=\"https://colab.research.google.com/assets/colab-badge.svg\" alt=\"Open In Colab\"/></a>"
      ]
    },
    {
      "cell_type": "code",
      "execution_count": null,
      "metadata": {
        "colab": {
          "base_uri": "https://localhost:8080/"
        },
        "id": "zLYV0K1QFhIv",
        "outputId": "495ae82f-f866-42e6-81d1-55042e6cc6c1"
      },
      "outputs": [
        {
          "output_type": "stream",
          "name": "stdout",
          "text": [
            "Enter the value : 9\n",
            "Sum :  45\n"
          ]
        }
      ],
      "source": [
        "a = int(input('Enter the value : '))\n",
        "tot = 0\n",
        "for i in range(0,a+1):\n",
        "  tot = tot+i\n",
        "print ('Sum : ',tot)"
      ]
    },
    {
      "cell_type": "code",
      "source": [
        "li = [1,2,3,4,5,5]\n",
        "li2 = 0\n",
        "for i in li :\n",
        "  #print(i)\n",
        "  li2 += i\n",
        "print(li2)\n"
      ],
      "metadata": {
        "colab": {
          "base_uri": "https://localhost:8080/"
        },
        "id": "7vF2xSZAGffH",
        "outputId": "3e3bc4a6-d0b1-4674-e1ce-8107493d3cf0"
      },
      "execution_count": null,
      "outputs": [
        {
          "output_type": "stream",
          "name": "stdout",
          "text": [
            "20\n"
          ]
        }
      ]
    },
    {
      "cell_type": "code",
      "source": [
        "li = [1,2,3,4,5,5]\n",
        "li2 = 0\n",
        "for i in li :\n",
        "  #print(i)\n",
        "  li2 += i\n",
        "  print(li2)\n",
        "  if ((li2%2)==0 ) :\n",
        "    print('Given Input is Even')\n",
        "  else :\n",
        "    print('Given Input is Odd')"
      ],
      "metadata": {
        "colab": {
          "base_uri": "https://localhost:8080/"
        },
        "id": "BzISCYASIFdY",
        "outputId": "f15cb109-7e44-42bc-e824-bfc576465bc0"
      },
      "execution_count": null,
      "outputs": [
        {
          "output_type": "stream",
          "name": "stdout",
          "text": [
            "1\n",
            "Given Input is Odd\n",
            "3\n",
            "Given Input is Odd\n",
            "6\n",
            "Given Input is Even\n",
            "10\n",
            "Given Input is Even\n",
            "15\n",
            "Given Input is Odd\n",
            "20\n",
            "Given Input is Even\n"
          ]
        }
      ]
    },
    {
      "cell_type": "code",
      "source": [
        "for i in range(0,11):\n",
        "  print(i)\n",
        "  if(i==5):\n",
        "    break"
      ],
      "metadata": {
        "colab": {
          "base_uri": "https://localhost:8080/"
        },
        "id": "B5mnt4nfK0cm",
        "outputId": "e531cf64-d100-480a-c106-fc9baafb0a4f"
      },
      "execution_count": null,
      "outputs": [
        {
          "output_type": "stream",
          "name": "stdout",
          "text": [
            "0\n",
            "1\n",
            "2\n",
            "3\n",
            "4\n",
            "5\n"
          ]
        }
      ]
    },
    {
      "cell_type": "code",
      "source": [
        "z = int(input('Enter a in between 1-10 : '))\n",
        "for i in range(0,11):\n",
        "  if(i==z):\n",
        "    continue\n",
        "  print(i)"
      ],
      "metadata": {
        "colab": {
          "base_uri": "https://localhost:8080/"
        },
        "id": "EWFTtiQFNT7b",
        "outputId": "02c847ae-a2b3-42a7-fc2d-9b0e060fbc58"
      },
      "execution_count": null,
      "outputs": [
        {
          "output_type": "stream",
          "name": "stdout",
          "text": [
            "Enter a in between 1-10 : 7\n",
            "0\n",
            "1\n",
            "2\n",
            "3\n",
            "4\n",
            "5\n",
            "6\n",
            "8\n",
            "9\n",
            "10\n"
          ]
        }
      ]
    },
    {
      "cell_type": "code",
      "source": [
        "odd = 0\n",
        "even = 0\n",
        "w = int(input('Enter starting range : '))\n",
        "s = int(input('Enter ending limit : '))\n",
        "for i in range (w,s+1):\n",
        "  if ((i%2)==0 ) :\n",
        "    #print('Even :',i)\n",
        "    even += i\n",
        "  else :\n",
        "    #print('Odd :',i)\n",
        "    odd += i\n",
        "print('Sum of Odd number',odd)\n",
        "print('Sum of Even number',even)"
      ],
      "metadata": {
        "colab": {
          "base_uri": "https://localhost:8080/"
        },
        "id": "nzZmQE_fNka5",
        "outputId": "0c857599-b912-457f-bb1e-284bff07d3bc"
      },
      "execution_count": null,
      "outputs": [
        {
          "output_type": "stream",
          "name": "stdout",
          "text": [
            "Enter starting range : 0\n",
            "Enter ending limit : 10\n",
            "Sum of Odd number 25\n",
            "Sum of Even number 30\n"
          ]
        }
      ]
    },
    {
      "cell_type": "code",
      "source": [
        "n = int(input('Enter a number: '))\n",
        "r = 1\n",
        "for i in range(1, n + 1):\n",
        "    r = r * i\n",
        "print(r)\n"
      ],
      "metadata": {
        "colab": {
          "base_uri": "https://localhost:8080/"
        },
        "id": "dP-7yl2HR25C",
        "outputId": "8cf6ad2d-6762-4b61-c3dd-3723fbc04e87"
      },
      "execution_count": null,
      "outputs": [
        {
          "output_type": "stream",
          "name": "stdout",
          "text": [
            "Enter a number: 5\n",
            "120\n"
          ]
        }
      ]
    },
    {
      "cell_type": "code",
      "source": [
        "a = 0\n",
        "b = 1\n",
        "c = 10\n",
        "for i in range(0,c):\n",
        "  print(i)\n"
      ],
      "metadata": {
        "colab": {
          "base_uri": "https://localhost:8080/"
        },
        "id": "uWcNbTMbZ3Nv",
        "outputId": "cf6dcf8e-27f1-4d97-af9e-b5f5e21d05d3"
      },
      "execution_count": null,
      "outputs": [
        {
          "output_type": "stream",
          "name": "stdout",
          "text": [
            "0\n",
            "1\n",
            "2\n",
            "3\n",
            "4\n",
            "5\n",
            "6\n",
            "7\n",
            "8\n",
            "9\n"
          ]
        }
      ]
    },
    {
      "cell_type": "code",
      "source": [
        "x=0\n",
        "y=1\n",
        "print(y)\n",
        "for i in range(1,10):\n",
        "\n",
        "  print(x+y)\n",
        "  x=y\n",
        "  y=i\n"
      ],
      "metadata": {
        "id": "qJaZClTVZ-LN",
        "colab": {
          "base_uri": "https://localhost:8080/"
        },
        "outputId": "c6949806-23b6-47c6-b753-a4ed28fb603d"
      },
      "execution_count": null,
      "outputs": [
        {
          "output_type": "stream",
          "name": "stdout",
          "text": [
            "1\n",
            "1\n",
            "2\n",
            "3\n",
            "5\n",
            "7\n",
            "9\n",
            "11\n",
            "13\n",
            "15\n"
          ]
        }
      ]
    },
    {
      "cell_type": "code",
      "source": [
        "x = int(input('Enter the number '))\n",
        "y = int(input('Enter the range '))\n",
        "for i in range(1,y+1) :\n",
        "  print(i,'*',x,'=',x*i)"
      ],
      "metadata": {
        "colab": {
          "base_uri": "https://localhost:8080/"
        },
        "id": "9DiME4EQGZSh",
        "outputId": "edc17538-d460-49bf-a53a-f214fe4cf90e"
      },
      "execution_count": null,
      "outputs": [
        {
          "output_type": "stream",
          "name": "stdout",
          "text": [
            "Enter the number 3\n",
            "Enter the range 10\n",
            "1 * 3 = 3\n",
            "2 * 3 = 6\n",
            "3 * 3 = 9\n",
            "4 * 3 = 12\n",
            "5 * 3 = 15\n",
            "6 * 3 = 18\n",
            "7 * 3 = 21\n",
            "8 * 3 = 24\n",
            "9 * 3 = 27\n",
            "10 * 3 = 30\n"
          ]
        }
      ]
    },
    {
      "cell_type": "code",
      "source": [
        "x = 0\n",
        "y = 1\n",
        "print(x)\n",
        "print(y)\n",
        "for i in range(1,9):\n",
        "    c = x + y\n",
        "    print(c)\n",
        "    x=y\n",
        "    y=c"
      ],
      "metadata": {
        "id": "A_m9K0ydHT5N",
        "colab": {
          "base_uri": "https://localhost:8080/"
        },
        "outputId": "25e22777-4913-4e30-9af8-54c0d9783199"
      },
      "execution_count": null,
      "outputs": [
        {
          "output_type": "stream",
          "name": "stdout",
          "text": [
            "0\n",
            "1\n",
            "1\n",
            "2\n",
            "3\n",
            "5\n",
            "8\n",
            "13\n",
            "21\n",
            "34\n"
          ]
        }
      ]
    },
    {
      "cell_type": "code",
      "source": [
        "a=0\n",
        "b=1\n",
        "print(a)\n",
        "print(b)\n",
        "for i in range(0,10):\n",
        "  c=a+b\n",
        "  print(c)\n",
        "  a=b\n",
        "  b=c"
      ],
      "metadata": {
        "colab": {
          "base_uri": "https://localhost:8080/"
        },
        "id": "g0sB9PHrMitI",
        "outputId": "f520511d-1896-40a2-d978-92787d0c7772"
      },
      "execution_count": null,
      "outputs": [
        {
          "output_type": "stream",
          "name": "stdout",
          "text": [
            "0\n",
            "1\n",
            "1\n",
            "2\n",
            "3\n",
            "5\n",
            "8\n",
            "13\n",
            "21\n",
            "34\n",
            "55\n",
            "89\n"
          ]
        }
      ]
    },
    {
      "cell_type": "code",
      "source": [
        "z = int(input('Enter the number '))\n",
        "d= str(z)\n",
        "print(\"Number of digits:\", len(d))\n",
        "num = 0\n",
        "for i in d:\n",
        "  f = int(i)\n",
        "  print(f,'^',len(d),'=',f**len(d))\n",
        "  num += f**len(d)\n",
        "print(\"Calculated Sum:\", num)\n",
        "if (num==z):\n",
        "  print('Armstrong')\n",
        "else:\n",
        "  print('Not Armstrong number')\n",
        "\n"
      ],
      "metadata": {
        "colab": {
          "base_uri": "https://localhost:8080/"
        },
        "id": "W2DPND_PUJa3",
        "outputId": "d758b20c-4791-4b88-f538-a7b3701d309e"
      },
      "execution_count": null,
      "outputs": [
        {
          "output_type": "stream",
          "name": "stdout",
          "text": [
            "Enter the number 10\n",
            "Number of digits: 2\n",
            "1 ^ 2 = 1\n",
            "0 ^ 2 = 0\n",
            "Calculated Sum: 1\n",
            "Not Armstrong number\n"
          ]
        }
      ]
    },
    {
      "cell_type": "code",
      "source": [
        "a= 1\n",
        "while(a<=10):\n",
        "  print(a)\n",
        "  a+=1"
      ],
      "metadata": {
        "colab": {
          "base_uri": "https://localhost:8080/"
        },
        "id": "AhdoobB77lv9",
        "outputId": "e105f36d-e6a6-44d0-f3f5-701829e10823"
      },
      "execution_count": null,
      "outputs": [
        {
          "output_type": "stream",
          "name": "stdout",
          "text": [
            "1\n",
            "2\n",
            "3\n",
            "4\n",
            "5\n",
            "6\n",
            "7\n",
            "8\n",
            "9\n",
            "10\n"
          ]
        }
      ]
    },
    {
      "cell_type": "code",
      "source": [],
      "metadata": {
        "id": "faBGRzmm-lxZ"
      },
      "execution_count": null,
      "outputs": []
    }
  ]
}