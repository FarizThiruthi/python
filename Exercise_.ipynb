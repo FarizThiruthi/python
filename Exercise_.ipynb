{
  "nbformat": 4,
  "nbformat_minor": 0,
  "metadata": {
    "colab": {
      "provenance": [],
      "authorship_tag": "ABX9TyNPi4wgPgR+Nf/F2g+Bpiwb",
      "include_colab_link": true
    },
    "kernelspec": {
      "name": "python3",
      "display_name": "Python 3"
    },
    "language_info": {
      "name": "python"
    }
  },
  "cells": [
    {
      "cell_type": "markdown",
      "metadata": {
        "id": "view-in-github",
        "colab_type": "text"
      },
      "source": [
        "<a href=\"https://colab.research.google.com/github/FarizThiruthi/python/blob/main/Exercise_.ipynb\" target=\"_parent\"><img src=\"https://colab.research.google.com/assets/colab-badge.svg\" alt=\"Open In Colab\"/></a>"
      ]
    },
    {
      "cell_type": "code",
      "execution_count": null,
      "metadata": {
        "colab": {
          "base_uri": "https://localhost:8080/"
        },
        "id": "LXGFWLAkP3fE",
        "outputId": "02663e23-5699-4c76-cf16-37839b1bdb8b"
      },
      "outputs": [
        {
          "output_type": "stream",
          "name": "stdout",
          "text": [
            "Sum of all items: 15\n"
          ]
        }
      ],
      "source": [
        "# Write a Python program to sum all the items in a list\n",
        "numbers = [1, 2, 3, 4, 5]\n",
        "total = sum(numbers)\n",
        "print(\"Sum of all items:\", total)\n"
      ]
    },
    {
      "cell_type": "code",
      "source": [
        "# Write a Python program to get the largest number from a list.\n",
        "numbers = [12, 45, 23, 67, 89]\n",
        "largest = max(numbers)\n",
        "print(\"Largest number:\", largest)\n"
      ],
      "metadata": {
        "colab": {
          "base_uri": "https://localhost:8080/"
        },
        "id": "zwm7qoUWQIfF",
        "outputId": "2e7886ff-5d65-4654-be65-a55e09049f24"
      },
      "execution_count": null,
      "outputs": [
        {
          "output_type": "stream",
          "name": "stdout",
          "text": [
            "Largest number: 89\n"
          ]
        }
      ]
    },
    {
      "cell_type": "code",
      "source": [
        "# Write a Python program to get the smallest number from a list.\n",
        "numbers = [12, 45, 23, 67, 89]\n",
        "smallest = min(numbers)\n",
        "print(\"Smallest number:\", smallest)\n"
      ],
      "metadata": {
        "colab": {
          "base_uri": "https://localhost:8080/"
        },
        "id": "C2JwGUESQUfm",
        "outputId": "b82bbc1c-a37c-49c6-9db1-c1a0d986cd3c"
      },
      "execution_count": null,
      "outputs": [
        {
          "output_type": "stream",
          "name": "stdout",
          "text": [
            "Smallest number: 12\n"
          ]
        }
      ]
    },
    {
      "cell_type": "code",
      "source": [
        "# Write a Python program to check a list is empty or not.\n",
        "my_list = []\n",
        "if not my_list:\n",
        "    print(\"List is empty\")\n",
        "else:\n",
        "    print(\"List is not empty\")\n"
      ],
      "metadata": {
        "colab": {
          "base_uri": "https://localhost:8080/"
        },
        "id": "0EyYdaZBQlyS",
        "outputId": "976b980c-fa68-4e2d-9c3a-5726e835fb7a"
      },
      "execution_count": null,
      "outputs": [
        {
          "output_type": "stream",
          "name": "stdout",
          "text": [
            "List is empty\n"
          ]
        }
      ]
    },
    {
      "cell_type": "code",
      "source": [
        "# Write a Python program to copy a list.\n",
        "original_list = [1, 2, 3]\n",
        "copied_list = original_list.copy()\n",
        "print(\"Copied list:\", copied_list)\n"
      ],
      "metadata": {
        "colab": {
          "base_uri": "https://localhost:8080/"
        },
        "id": "xVL0RYeZQ7ic",
        "outputId": "235de274-3bbf-44f4-b426-416efb19cc5c"
      },
      "execution_count": null,
      "outputs": [
        {
          "output_type": "stream",
          "name": "stdout",
          "text": [
            "Copied list: [1, 2, 3]\n"
          ]
        }
      ]
    },
    {
      "cell_type": "code",
      "source": [
        "# Write a Python program access the index of a list.\n",
        "my_list = ['apple', 'banana', 'cherry']\n",
        "for index, value in enumerate(my_list):\n",
        "    print(\"Index:\", index, \"Value:\", value)\n"
      ],
      "metadata": {
        "colab": {
          "base_uri": "https://localhost:8080/"
        },
        "id": "wIpgc_HLRIvb",
        "outputId": "67d4acad-13fd-4cd9-80bf-9d090cf562db"
      },
      "execution_count": null,
      "outputs": [
        {
          "output_type": "stream",
          "name": "stdout",
          "text": [
            "Index: 0 Value: apple\n",
            "Index: 1 Value: banana\n",
            "Index: 2 Value: cherry\n"
          ]
        }
      ]
    },
    {
      "cell_type": "code",
      "source": [
        "# Write a Python program to append a list to the second list.\n",
        "list1 = [1, 2, 3]\n",
        "list2 = [4, 5, 6]\n",
        "list1 += list2\n",
        "print(\"Combined list:\", list1)\n"
      ],
      "metadata": {
        "colab": {
          "base_uri": "https://localhost:8080/"
        },
        "id": "8jLsjuXZRQni",
        "outputId": "25e565a4-ab23-4228-fbe2-f357140883b5"
      },
      "execution_count": null,
      "outputs": [
        {
          "output_type": "stream",
          "name": "stdout",
          "text": [
            "Combined list: [1, 2, 3, 4, 5, 6]\n"
          ]
        }
      ]
    },
    {
      "cell_type": "code",
      "source": [
        "# Write a Python program to get unique values from a list\n",
        "my_list = [1, 2, 2, 3, 4, 4, 5]\n",
        "print(\"My list:\", my_list)\n",
        "unique_list = list(set(my_list))\n",
        "print(\"Unique values:\", unique_list)\n"
      ],
      "metadata": {
        "colab": {
          "base_uri": "https://localhost:8080/"
        },
        "id": "QiBd8cnCRtAS",
        "outputId": "40389a19-4d48-4347-e39f-4b2e3d672c88"
      },
      "execution_count": null,
      "outputs": [
        {
          "output_type": "stream",
          "name": "stdout",
          "text": [
            "My list: [1, 2, 2, 3, 4, 4, 5]\n",
            "Unique values: [1, 2, 3, 4, 5]\n"
          ]
        }
      ]
    },
    {
      "cell_type": "code",
      "source": [
        "# Write a Python program to find common items from two lists\n",
        "list1 = [1, 2, 3, 4]\n",
        "list2 = [3, 4, 5, 6]\n",
        "common_items = list(set(list1) & set(list2))\n",
        "print(\"Common items:\", common_items)\n"
      ],
      "metadata": {
        "colab": {
          "base_uri": "https://localhost:8080/"
        },
        "id": "7QrB0a6oR7F9",
        "outputId": "59baadbd-9a56-4982-a591-a82603e7c243"
      },
      "execution_count": null,
      "outputs": [
        {
          "output_type": "stream",
          "name": "stdout",
          "text": [
            "Common items: [3, 4]\n"
          ]
        }
      ]
    },
    {
      "cell_type": "code",
      "source": [
        "# Write a Python program to select the odd items of a list.\n",
        "numbers = [1, 2, 3, 4, 5, 6, 7, 8, 9]\n",
        "odd_numbers = [num for num in numbers if num % 2 != 0]\n",
        "print(\"Odd items:\", odd_numbers)\n"
      ],
      "metadata": {
        "colab": {
          "base_uri": "https://localhost:8080/"
        },
        "id": "BeJiQdT8SXrm",
        "outputId": "24ee1fce-aca1-44ab-b13b-ab6df038138a"
      },
      "execution_count": null,
      "outputs": [
        {
          "output_type": "stream",
          "name": "stdout",
          "text": [
            "Odd items: [1, 3, 5, 7, 9]\n"
          ]
        }
      ]
    },
    {
      "cell_type": "code",
      "source": [
        "#Write a Python program to concatenate elements of a list.\n",
        "my_list = ['Hello', 'world', '!']\n",
        "concatenated = ' '.join(my_list)\n",
        "print(\"Concatenated:\", concatenated)\n"
      ],
      "metadata": {
        "colab": {
          "base_uri": "https://localhost:8080/"
        },
        "id": "YHliEOz9StuF",
        "outputId": "6ee52325-f644-4bd5-9bcc-f47146ff6402"
      },
      "execution_count": null,
      "outputs": [
        {
          "output_type": "stream",
          "name": "stdout",
          "text": [
            "Concatenated: Hello world !\n"
          ]
        }
      ]
    },
    {
      "cell_type": "code",
      "source": [
        "#Write a Python program to convert a string to a list.\n",
        "my_string = \"Hello,world\"\n",
        "my_list = list(my_string)\n",
        "print(\"Converted list:\", my_list)\n"
      ],
      "metadata": {
        "colab": {
          "base_uri": "https://localhost:8080/"
        },
        "id": "m1nMpte5S7VE",
        "outputId": "8c0f9324-1555-47b7-9a38-a32f107abad9"
      },
      "execution_count": null,
      "outputs": [
        {
          "output_type": "stream",
          "name": "stdout",
          "text": [
            "Converted list: ['H', 'e', 'l', 'l', 'o', ',', 'w', 'o', 'r', 'l', 'd']\n"
          ]
        }
      ]
    },
    {
      "cell_type": "code",
      "source": [
        "#Write a Python program to extend a list without append.\n",
        "list1 = [1, 2, 3]\n",
        "list2 = [4, 5, 6]\n",
        "list1[len(list1):] = list2\n",
        "print(\"Extended list:\", list1)\n"
      ],
      "metadata": {
        "colab": {
          "base_uri": "https://localhost:8080/"
        },
        "id": "oKMROl32TAGC",
        "outputId": "f2102469-87e8-41ce-8f5c-d719fe28fca8"
      },
      "execution_count": null,
      "outputs": [
        {
          "output_type": "stream",
          "name": "stdout",
          "text": [
            "Extended list: [1, 2, 3, 4, 5, 6]\n"
          ]
        }
      ]
    },
    {
      "cell_type": "code",
      "source": [
        "# Write a Python program to create a set.\n",
        "my_set = {1, 2, 3, 4, 5}\n",
        "print(my_set)\n"
      ],
      "metadata": {
        "colab": {
          "base_uri": "https://localhost:8080/"
        },
        "id": "y7_sSvtNTMlj",
        "outputId": "fc2f18d3-94c9-47cc-ed2b-722e3c9ffe7c"
      },
      "execution_count": null,
      "outputs": [
        {
          "output_type": "stream",
          "name": "stdout",
          "text": [
            "{1, 2, 3, 4, 5}\n"
          ]
        }
      ]
    },
    {
      "cell_type": "code",
      "source": [
        "# Write a Python program to remove items) from a given set.\n",
        "my_set = {1, 2, 3, 4, 5}\n",
        "my_set.remove(3)\n",
        "print(my_set)\n"
      ],
      "metadata": {
        "colab": {
          "base_uri": "https://localhost:8080/"
        },
        "id": "oCzQg6scXWtn",
        "outputId": "16c0fb93-cf87-4411-bda6-0b37f3736c65"
      },
      "execution_count": null,
      "outputs": [
        {
          "output_type": "stream",
          "name": "stdout",
          "text": [
            "{1, 2, 4, 5}\n"
          ]
        }
      ]
    },
    {
      "cell_type": "code",
      "source": [
        "# Write a Python program to add member(s) in a set.\n",
        "my_set = {1, 2, 3}\n",
        "my_set.add(4)\n",
        "print(my_set)\n"
      ],
      "metadata": {
        "colab": {
          "base_uri": "https://localhost:8080/"
        },
        "id": "0Q_vibZfXcfk",
        "outputId": "cf02d66c-f670-4aea-a6d4-c789a3d2226e"
      },
      "execution_count": null,
      "outputs": [
        {
          "output_type": "stream",
          "name": "stdout",
          "text": [
            "{1, 2, 3, 4}\n"
          ]
        }
      ]
    },
    {
      "cell_type": "code",
      "source": [
        "# Write a Python program to create an intersection, union, set difference, symmetric difference of sets.\n",
        "set1 = {1, 2, 3}\n",
        "set2 = {3, 4, 5}\n",
        "\n",
        "intersection = set1 & set2 # set1.intersection(set2)\n",
        "union = set1 | set2 # set1.union(set2)\n",
        "difference = set1 - set2 # set1.difference(set2)\n",
        "symmetric_difference = set1 ^ set2\n",
        "\n",
        "print(\"Intersection:\", intersection)\n",
        "print(\"Union:\", union)\n",
        "print(\"Difference:\", difference)\n",
        "print(\"Symmetric Difference:\", symmetric_difference)\n"
      ],
      "metadata": {
        "colab": {
          "base_uri": "https://localhost:8080/"
        },
        "id": "tvL7B_FWXhqQ",
        "outputId": "bfb6b021-57e3-40f7-c47e-ae875e8f0636"
      },
      "execution_count": null,
      "outputs": [
        {
          "output_type": "stream",
          "name": "stdout",
          "text": [
            "Intersection: {3}\n",
            "Union: {1, 2, 3, 4, 5}\n",
            "Difference: {1, 2}\n",
            "Symmetric Difference: {1, 2, 4, 5}\n"
          ]
        }
      ]
    },
    {
      "cell_type": "code",
      "source": [
        "# Write a Python program to create a shallow copy of sets.\n",
        "original_set = {1, 2, 3}\n",
        "copied_set = original_set.copy()\n",
        "print(\"Copied set:\", copied_set)\n"
      ],
      "metadata": {
        "colab": {
          "base_uri": "https://localhost:8080/"
        },
        "id": "v7AVE4VAXpwa",
        "outputId": "5c372f2d-f62b-43d4-f779-2b03ed3fd7c5"
      },
      "execution_count": null,
      "outputs": [
        {
          "output_type": "stream",
          "name": "stdout",
          "text": [
            "Copied set: {1, 2, 3}\n"
          ]
        }
      ]
    },
    {
      "cell_type": "code",
      "source": [
        "# Write a Python program to remove all elements from a given set.\n",
        "my_set = {1, 2, 3, 4, 5}\n",
        "my_set.clear()\n",
        "print(my_set)\n"
      ],
      "metadata": {
        "colab": {
          "base_uri": "https://localhost:8080/"
        },
        "id": "SEOcJMk7YcoY",
        "outputId": "0fd65662-4849-4254-bef9-441539c4517d"
      },
      "execution_count": null,
      "outputs": [
        {
          "output_type": "stream",
          "name": "stdout",
          "text": [
            "set()\n"
          ]
        }
      ]
    },
    {
      "cell_type": "code",
      "source": [
        "# Write a Python program to find the length of a set.\n",
        "my_set = {1, 2, 3, 4, 5}\n",
        "length = len(my_set)\n",
        "print(\"Length:\", length)\n"
      ],
      "metadata": {
        "colab": {
          "base_uri": "https://localhost:8080/"
        },
        "id": "TM-0aPZKYi5I",
        "outputId": "66469263-19fd-4e50-f48b-2740f4a32ac1"
      },
      "execution_count": null,
      "outputs": [
        {
          "output_type": "stream",
          "name": "stdout",
          "text": [
            "Length: 5\n"
          ]
        }
      ]
    },
    {
      "cell_type": "code",
      "source": [
        "# Write a Python program to check if a set is a subset of another set.\n",
        "set1 = {1, 2}\n",
        "set2 = {1, 2, 3, 4, 5}\n",
        "\n",
        "is_subset = set1.issubset(set2)\n",
        "print(\"Is set1 a subset of set2?\", is_subset)\n"
      ],
      "metadata": {
        "colab": {
          "base_uri": "https://localhost:8080/"
        },
        "id": "07yzjXouY18d",
        "outputId": "6a7d5bf7-82f1-49a7-a298-958b072259c9"
      },
      "execution_count": null,
      "outputs": [
        {
          "output_type": "stream",
          "name": "stdout",
          "text": [
            "Is set1 a subset of set2? True\n"
          ]
        }
      ]
    },
    {
      "cell_type": "code",
      "source": [
        "# Python Program to Add a Key-Value Pair to the Dictionary\n",
        "my_dict = {'key1': 'value1'}\n",
        "my_dict['key2'] = 'value2'\n",
        "print(my_dict)\n"
      ],
      "metadata": {
        "colab": {
          "base_uri": "https://localhost:8080/"
        },
        "id": "3qBxPR9KZIeq",
        "outputId": "ce4848d2-afa4-4d6a-cb8b-cf4141a4ff28"
      },
      "execution_count": null,
      "outputs": [
        {
          "output_type": "stream",
          "name": "stdout",
          "text": [
            "{'key1': 'value1', 'key2': 'value2'}\n"
          ]
        }
      ]
    },
    {
      "cell_type": "code",
      "source": [
        "# Write a Python program to iteration over sets.\n",
        "my_set = {1, 2, 3, 4, 5}\n",
        "for item in my_set:\n",
        "    print(item)\n"
      ],
      "metadata": {
        "colab": {
          "base_uri": "https://localhost:8080/"
        },
        "id": "z717rAhtZQ0n",
        "outputId": "53b0f056-4678-4a2e-bde4-f8f462d1f7ae"
      },
      "execution_count": null,
      "outputs": [
        {
          "output_type": "stream",
          "name": "stdout",
          "text": [
            "1\n",
            "2\n",
            "3\n",
            "4\n",
            "5\n"
          ]
        }
      ]
    },
    {
      "cell_type": "code",
      "source": [
        "# Write a Python script to add a key to a dictionary.\n",
        "my_dict = {'key1': 'value1'}\n",
        "my_dict['key2'] = 'value2'\n",
        "print(my_dict)\n"
      ],
      "metadata": {
        "colab": {
          "base_uri": "https://localhost:8080/"
        },
        "id": "QH9xDFGaZYGt",
        "outputId": "b7ced786-3485-4942-d475-d23d8c2199a1"
      },
      "execution_count": null,
      "outputs": [
        {
          "output_type": "stream",
          "name": "stdout",
          "text": [
            "{'key1': 'value1', 'key2': 'value2'}\n"
          ]
        }
      ]
    },
    {
      "cell_type": "code",
      "source": [
        "# Python Program to Remove the Given Key from a Dictionary\n",
        "my_dict = {'key1': 'value1', 'key2': 'value2'}\n",
        "del my_dict['key1']\n",
        "print(my_dict)\n"
      ],
      "metadata": {
        "colab": {
          "base_uri": "https://localhost:8080/"
        },
        "id": "fOSCTNCYZqWG",
        "outputId": "fd50daa3-4d42-46f7-e2d5-18a1623c05a8"
      },
      "execution_count": null,
      "outputs": [
        {
          "output_type": "stream",
          "name": "stdout",
          "text": [
            "{'key2': 'value2'}\n"
          ]
        }
      ]
    },
    {
      "cell_type": "code",
      "source": [
        "# Write a Python program to check if two given sets have no elements in common.\n",
        "set1 = {1, 2, 3}\n",
        "set2 = {4, 5, 6}\n",
        "\n",
        "no_common_elements = set1.isdisjoint(set2)\n",
        "print(\"No common elements?\", no_common_elements)\n"
      ],
      "metadata": {
        "colab": {
          "base_uri": "https://localhost:8080/"
        },
        "id": "ysvF1XT2Zyme",
        "outputId": "42562861-be5a-4fa6-fff2-57fa822c5bd3"
      },
      "execution_count": null,
      "outputs": [
        {
          "output_type": "stream",
          "name": "stdout",
          "text": [
            "No common elements? True\n"
          ]
        }
      ]
    },
    {
      "cell_type": "code",
      "source": [
        "# Python Program to Sum All the Items in a Dictionary\n",
        "my_dict = {'a': 10, 'b': 20, 'c': 30}\n",
        "total = sum(my_dict.values())\n",
        "print(\"Sum of values:\", total)\n"
      ],
      "metadata": {
        "colab": {
          "base_uri": "https://localhost:8080/"
        },
        "id": "pyYVkWXKaBed",
        "outputId": "97d10869-363e-4510-d7f8-051d1b5232df"
      },
      "execution_count": null,
      "outputs": [
        {
          "output_type": "stream",
          "name": "stdout",
          "text": [
            "Sum of values: 60\n"
          ]
        }
      ]
    },
    {
      "cell_type": "code",
      "source": [
        "# Python Program to Multiply All the Items in a Dictionary\n",
        "my_dict = {'a': 2, 'b': 3, 'c': 4}\n",
        "result = 1\n",
        "for value in my_dict.values():\n",
        "    result *= value\n",
        "print(\"Multiplication result:\", result)\n"
      ],
      "metadata": {
        "colab": {
          "base_uri": "https://localhost:8080/"
        },
        "id": "NQCHrh1KaTWb",
        "outputId": "ac2a4fdb-a5d6-4a68-ba66-5b516ceeeb3a"
      },
      "execution_count": null,
      "outputs": [
        {
          "output_type": "stream",
          "name": "stdout",
          "text": [
            "Multiplication result: 24\n"
          ]
        }
      ]
    },
    {
      "cell_type": "markdown",
      "source": [
        "**While Loop**"
      ],
      "metadata": {
        "id": "Npka2exL8SUI"
      }
    },
    {
      "cell_type": "code",
      "source": [
        "# Create a multiplication table\n",
        "n = int(input(\"Enter a number for the multiplication table: \"))\n",
        "i = 1\n",
        "while i <= 10:\n",
        "    print(f\"{n} x {i} = {n * i}\")\n",
        "    i += 1\n"
      ],
      "metadata": {
        "colab": {
          "base_uri": "https://localhost:8080/"
        },
        "id": "4QQ4VFV88jpn",
        "outputId": "18192de8-4954-4228-a9f4-41f1a70f1339"
      },
      "execution_count": 1,
      "outputs": [
        {
          "output_type": "stream",
          "name": "stdout",
          "text": [
            "Enter a number for the multiplication table: 2\n",
            "2 x 1 = 2\n",
            "2 x 2 = 4\n",
            "2 x 3 = 6\n",
            "2 x 4 = 8\n",
            "2 x 5 = 10\n",
            "2 x 6 = 12\n",
            "2 x 7 = 14\n",
            "2 x 8 = 16\n",
            "2 x 9 = 18\n",
            "2 x 10 = 20\n"
          ]
        }
      ]
    },
    {
      "cell_type": "code",
      "source": [
        "# Count how many times a given number can be divided by 3 before it is less than or equal to 10\n",
        "num = int(input(\"Enter a number: \"))\n",
        "count = 0\n",
        "while num > 10:\n",
        "    num /= 3\n",
        "    count += 1\n",
        "print(\"Number of divisions:\", count)\n"
      ],
      "metadata": {
        "colab": {
          "base_uri": "https://localhost:8080/"
        },
        "id": "3mfT2nty892r",
        "outputId": "946b63f6-5b3e-41ae-ab35-5e8842d56a1d"
      },
      "execution_count": 5,
      "outputs": [
        {
          "output_type": "stream",
          "name": "stdout",
          "text": [
            "Enter a number: 100\n",
            "Number of divisions: 3\n"
          ]
        }
      ]
    },
    {
      "cell_type": "code",
      "source": [
        "#Program to add natural numbers up to a given sum\n",
        "n = int(input(\"Enter a number: \"))\n",
        "sum = 0\n",
        "i = 1\n",
        "while i <= n:\n",
        "    sum += i\n",
        "    i += 1\n",
        "print(\"Sum of natural numbers:\", sum)\n"
      ],
      "metadata": {
        "colab": {
          "base_uri": "https://localhost:8080/"
        },
        "id": "-HMauFDb9M-G",
        "outputId": "2f701521-ba18-4370-b301-703a0c930ab2"
      },
      "execution_count": 7,
      "outputs": [
        {
          "output_type": "stream",
          "name": "stdout",
          "text": [
            "Enter a number: 3\n",
            "Sum of natural numbers: 6\n"
          ]
        }
      ]
    },
    {
      "cell_type": "code",
      "source": [
        "# Simple Fibonacci series\n",
        "n = int(input(\"Enter the number of terms: \"))\n",
        "a, b = 0, 1\n",
        "while n > 0:\n",
        "    print(a)\n",
        "    a, b = b, a + b\n",
        "    n -= 1\n"
      ],
      "metadata": {
        "colab": {
          "base_uri": "https://localhost:8080/"
        },
        "id": "hGggnURb9s4u",
        "outputId": "fe81ebf6-1cab-42b9-f675-7ee6195a99bd"
      },
      "execution_count": 8,
      "outputs": [
        {
          "output_type": "stream",
          "name": "stdout",
          "text": [
            "Enter the number of terms: 10\n",
            "0\n",
            "1\n",
            "1\n",
            "2\n",
            "3\n",
            "5\n",
            "8\n",
            "13\n",
            "21\n",
            "34\n"
          ]
        }
      ]
    },
    {
      "cell_type": "code",
      "source": [
        "# Print even and odd numbers between 1 to the entered number\n",
        "n = int(input(\"Enter a number: \"))\n",
        "i = 1\n",
        "while i <= n:\n",
        "    if i % 2 == 0:\n",
        "        print(f\"{i} is even\")\n",
        "    else:\n",
        "        print(f\"{i} is odd\")\n",
        "    i += 1\n"
      ],
      "metadata": {
        "colab": {
          "base_uri": "https://localhost:8080/"
        },
        "id": "HjnteSl8-DAp",
        "outputId": "d86b2dd1-098a-4ca0-edf3-99549bc37135"
      },
      "execution_count": 9,
      "outputs": [
        {
          "output_type": "stream",
          "name": "stdout",
          "text": [
            "Enter a number: 10\n",
            "1 is odd\n",
            "2 is even\n",
            "3 is odd\n",
            "4 is even\n",
            "5 is odd\n",
            "6 is even\n",
            "7 is odd\n",
            "8 is even\n",
            "9 is odd\n",
            "10 is even\n"
          ]
        }
      ]
    },
    {
      "cell_type": "code",
      "source": [
        "# Printing the square of odd numbers less than n\n",
        "n = int(input(\"Enter a number: \"))\n",
        "i = 1\n",
        "while i < n:\n",
        "    if i % 2 != 0:\n",
        "        print(f\"The square of {i} is {i**2}\")\n",
        "    i += 1\n"
      ],
      "metadata": {
        "colab": {
          "base_uri": "https://localhost:8080/"
        },
        "id": "0squPxdw-K4B",
        "outputId": "22964807-052e-41da-d1e0-a02d22533359"
      },
      "execution_count": 10,
      "outputs": [
        {
          "output_type": "stream",
          "name": "stdout",
          "text": [
            "Enter a number: 23\n",
            "The square of 1 is 1\n",
            "The square of 3 is 9\n",
            "The square of 5 is 25\n",
            "The square of 7 is 49\n",
            "The square of 9 is 81\n",
            "The square of 11 is 121\n",
            "The square of 13 is 169\n",
            "The square of 15 is 225\n",
            "The square of 17 is 289\n",
            "The square of 19 is 361\n",
            "The square of 21 is 441\n"
          ]
        }
      ]
    },
    {
      "cell_type": "code",
      "source": [
        "#Add all even numbers from 1 to 10 using a while loop\n",
        "sum = 0\n",
        "i = 2\n",
        "while i <= 10:\n",
        "    sum += i\n",
        "    i += 2\n",
        "print(\"Sum of even numbers:\", sum)\n"
      ],
      "metadata": {
        "colab": {
          "base_uri": "https://localhost:8080/"
        },
        "id": "zJOYr9ur-Tlk",
        "outputId": "9fa6ea17-d20c-4616-c943-5945821086dd"
      },
      "execution_count": 11,
      "outputs": [
        {
          "output_type": "stream",
          "name": "stdout",
          "text": [
            "Sum of even numbers: 30\n"
          ]
        }
      ]
    },
    {
      "cell_type": "code",
      "source": [
        "#Write a code to add all the prime numbers between 17 to 53 using a while loop\n",
        "lower_limit = 17\n",
        "upper_limit = 53\n",
        "sum_of_primes = 0\n",
        "\n",
        "while lower_limit <= upper_limit:\n",
        "    if lower_limit > 1:\n",
        "        is_prime = True\n",
        "        for i in range(2, lower_limit):\n",
        "            if (lower_limit % i) == 0:\n",
        "                is_prime = False\n",
        "                break\n",
        "        if is_prime:\n",
        "            sum_of_primes += lower_limit\n",
        "    lower_limit += 1\n",
        "\n",
        "print(\"Sum of prime numbers between 17 and 53:\", sum_of_primes)\n"
      ],
      "metadata": {
        "colab": {
          "base_uri": "https://localhost:8080/"
        },
        "id": "sghpW83F-hgr",
        "outputId": "3540feff-bbb9-42b4-e83b-33f93897a8ca"
      },
      "execution_count": 12,
      "outputs": [
        {
          "output_type": "stream",
          "name": "stdout",
          "text": [
            "Sum of prime numbers between 17 and 53: 340\n"
          ]
        }
      ]
    },
    {
      "cell_type": "code",
      "source": [
        "# Use a while loop to print numbers from 1 to 6\n",
        "i = 1\n",
        "while i <= 6:\n",
        "    print(i)\n",
        "    i += 1\n"
      ],
      "metadata": {
        "colab": {
          "base_uri": "https://localhost:8080/"
        },
        "id": "FJdnz7mb-nRR",
        "outputId": "b9697362-ea86-47c5-c4ff-fa376c1dbd2d"
      },
      "execution_count": 13,
      "outputs": [
        {
          "output_type": "stream",
          "name": "stdout",
          "text": [
            "1\n",
            "2\n",
            "3\n",
            "4\n",
            "5\n",
            "6\n"
          ]
        }
      ]
    },
    {
      "cell_type": "code",
      "source": [
        "# Display each character from a string, and if a character is a number then stop the loop\n",
        "input_string = input(\"Enter a string: \")\n",
        "index = 0\n",
        "\n",
        "while index < len(input_string):\n",
        "    char = input_string[index]\n",
        "    print(char)\n",
        "\n",
        "    if char.isdigit():\n",
        "        break\n",
        "\n",
        "    index += 1\n"
      ],
      "metadata": {
        "colab": {
          "base_uri": "https://localhost:8080/"
        },
        "id": "-vnadg9U-8w1",
        "outputId": "5b549453-3d17-409e-b958-6ee0c96c0e62"
      },
      "execution_count": 14,
      "outputs": [
        {
          "output_type": "stream",
          "name": "stdout",
          "text": [
            "Enter a string: hello\n",
            "h\n",
            "e\n",
            "l\n",
            "l\n",
            "o\n"
          ]
        }
      ]
    },
    {
      "cell_type": "code",
      "source": [
        "# Printing odd numbers less than n\n",
        "n = int(input(\"Enter a number: \"))\n",
        "i = 1\n",
        "while i < n:\n",
        "    if i % 2 != 0:\n",
        "        print(i)\n",
        "    i += 1\n"
      ],
      "metadata": {
        "colab": {
          "base_uri": "https://localhost:8080/"
        },
        "id": "huruV5gi_CtL",
        "outputId": "8aa92795-67cc-4243-baa0-a485a55c5815"
      },
      "execution_count": 15,
      "outputs": [
        {
          "output_type": "stream",
          "name": "stdout",
          "text": [
            "Enter a number: 24\n",
            "1\n",
            "3\n",
            "5\n",
            "7\n",
            "9\n",
            "11\n",
            "13\n",
            "15\n",
            "17\n",
            "19\n",
            "21\n",
            "23\n"
          ]
        }
      ]
    },
    {
      "cell_type": "code",
      "source": [
        "#. Use a while loop to iterate over a string and display only alphabets\n",
        "input_string = input(\"Enter a string: \")\n",
        "index = 0\n",
        "\n",
        "while index < len(input_string):\n",
        "    char = input_string[index]\n",
        "    if char.isalpha():\n",
        "        print(char)\n",
        "    index += 1\n"
      ],
      "metadata": {
        "colab": {
          "base_uri": "https://localhost:8080/"
        },
        "id": "rSFwvW71_P0b",
        "outputId": "ed2d51ef-88d9-4d6f-f11a-e6c1590155aa"
      },
      "execution_count": 16,
      "outputs": [
        {
          "output_type": "stream",
          "name": "stdout",
          "text": [
            "Enter a string: hola123amigo\n",
            "h\n",
            "o\n",
            "l\n",
            "a\n",
            "a\n",
            "m\n",
            "i\n",
            "g\n",
            "o\n"
          ]
        }
      ]
    },
    {
      "cell_type": "code",
      "source": [
        "# Reverse a while loop to display numbers from 10 to 1\n",
        "i =10\n",
        "while i >=1 :\n",
        "  print (i)\n",
        "  i=i-1"
      ],
      "metadata": {
        "colab": {
          "base_uri": "https://localhost:8080/"
        },
        "id": "IhdnKO3p_XMh",
        "outputId": "062a979c-6049-489e-c73e-a135e0a9eaa5"
      },
      "execution_count": 1,
      "outputs": [
        {
          "output_type": "stream",
          "name": "stdout",
          "text": [
            "10\n",
            "9\n",
            "8\n",
            "7\n",
            "6\n",
            "5\n",
            "4\n",
            "3\n",
            "2\n",
            "1\n"
          ]
        }
      ]
    },
    {
      "cell_type": "code",
      "source": [
        "# Print the first 10 numbers on each line 5 times\n",
        "count = 0\n",
        "while count < 5:\n",
        "    i = 1\n",
        "    while i <= 10:\n",
        "        print(i, end=' ')\n",
        "        i += 1\n",
        "    print()  # Move to the next line\n",
        "    count += 1\n"
      ],
      "metadata": {
        "colab": {
          "base_uri": "https://localhost:8080/"
        },
        "id": "o9OPKUB5_y33",
        "outputId": "a668f250-3d65-48e7-f7f1-3d8d0b8fbefc"
      },
      "execution_count": 4,
      "outputs": [
        {
          "output_type": "stream",
          "name": "stdout",
          "text": [
            "1 2 3 4 5 6 7 8 9 10 \n",
            "1 2 3 4 5 6 7 8 9 10 \n",
            "1 2 3 4 5 6 7 8 9 10 \n",
            "1 2 3 4 5 6 7 8 9 10 \n",
            "1 2 3 4 5 6 7 8 9 10 \n"
          ]
        }
      ]
    },
    {
      "cell_type": "code",
      "source": [
        "#While loop to iterate string letter by letter\n",
        "input_string = input(\"Enter a string: \")\n",
        "index = 0\n",
        "\n",
        "while index < len(input_string):\n",
        "    char = input_string[index]\n",
        "    print(char)\n",
        "    index += 1\n"
      ],
      "metadata": {
        "colab": {
          "base_uri": "https://localhost:8080/"
        },
        "id": "sfeAcTnOAaFI",
        "outputId": "d9ac27d7-fcff-4193-e1fa-14c170463deb"
      },
      "execution_count": 6,
      "outputs": [
        {
          "output_type": "stream",
          "name": "stdout",
          "text": [
            "Enter a string: hola\n",
            "h\n",
            "o\n",
            "l\n",
            "a\n"
          ]
        }
      ]
    },
    {
      "cell_type": "code",
      "source": [
        "# Printing the first two elements of a list\n",
        "my_list = [1, 2, 3, 4, 5]\n",
        "index = 0\n",
        "\n",
        "while index < len(my_list) and index < 2:\n",
        "    print(my_list[index])\n",
        "    index += 1\n"
      ],
      "metadata": {
        "colab": {
          "base_uri": "https://localhost:8080/"
        },
        "id": "_IH2rbvVA0_v",
        "outputId": "c505bb4d-44f8-4d1a-c993-c1679fc3ff43"
      },
      "execution_count": 7,
      "outputs": [
        {
          "output_type": "stream",
          "name": "stdout",
          "text": [
            "1\n",
            "2\n"
          ]
        }
      ]
    },
    {
      "cell_type": "code",
      "source": [
        "# Find the cube of numbers from 1 to 9\n",
        "i = 1\n",
        "while i <= 9:\n",
        "    cube = i ** 3\n",
        "    print(f\"The cube of {i} is {cube}\")\n",
        "    i += 1\n"
      ],
      "metadata": {
        "colab": {
          "base_uri": "https://localhost:8080/"
        },
        "id": "pHInJxoGBBHT",
        "outputId": "1c20515c-1bec-4719-c4e2-46a9debec38a"
      },
      "execution_count": 8,
      "outputs": [
        {
          "output_type": "stream",
          "name": "stdout",
          "text": [
            "The cube of 1 is 1\n",
            "The cube of 2 is 8\n",
            "The cube of 3 is 27\n",
            "The cube of 4 is 64\n",
            "The cube of 5 is 125\n",
            "The cube of 6 is 216\n",
            "The cube of 7 is 343\n",
            "The cube of 8 is 512\n",
            "The cube of 9 is 729\n"
          ]
        }
      ]
    },
    {
      "cell_type": "code",
      "source": [
        "# Printing the square of numbers less than n using a while loop\n",
        "n = int(input(\"Enter a number: \"))\n",
        "i = 1\n",
        "while i < n:\n",
        "    square = i ** 2\n",
        "    print(f\"The square of {i} is {square}\")\n",
        "    i += 1\n"
      ],
      "metadata": {
        "colab": {
          "base_uri": "https://localhost:8080/"
        },
        "id": "veL3JgjOBHlQ",
        "outputId": "c9401330-edb4-4e89-d555-be6ee4fbe1a9"
      },
      "execution_count": 11,
      "outputs": [
        {
          "output_type": "stream",
          "name": "stdout",
          "text": [
            "Enter a number: 5\n",
            "The square of 1 is 1\n",
            "The square of 2 is 4\n",
            "The square of 3 is 9\n",
            "The square of 4 is 16\n"
          ]
        }
      ]
    },
    {
      "cell_type": "code",
      "source": [],
      "metadata": {
        "id": "gfT7BS7WBZAT"
      },
      "execution_count": null,
      "outputs": []
    }
  ]
}