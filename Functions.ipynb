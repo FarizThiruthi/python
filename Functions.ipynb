{
  "nbformat": 4,
  "nbformat_minor": 0,
  "metadata": {
    "colab": {
      "provenance": [],
      "authorship_tag": "ABX9TyPLIfWgcNGoOgUcsHHTWfgl",
      "include_colab_link": true
    },
    "kernelspec": {
      "name": "python3",
      "display_name": "Python 3"
    },
    "language_info": {
      "name": "python"
    }
  },
  "cells": [
    {
      "cell_type": "markdown",
      "metadata": {
        "id": "view-in-github",
        "colab_type": "text"
      },
      "source": [
        "<a href=\"https://colab.research.google.com/github/FarizThiruthi/python/blob/main/Functions.ipynb\" target=\"_parent\"><img src=\"https://colab.research.google.com/assets/colab-badge.svg\" alt=\"Open In Colab\"/></a>"
      ]
    },
    {
      "cell_type": "code",
      "execution_count": null,
      "metadata": {
        "colab": {
          "base_uri": "https://localhost:8080/"
        },
        "id": "_e9gwePxGUEo",
        "outputId": "08be8d13-a5ca-4224-fe91-6353607da44a"
      },
      "outputs": [
        {
          "output_type": "stream",
          "name": "stdout",
          "text": [
            "Hello World\n"
          ]
        }
      ],
      "source": [
        "def hello_world():\n",
        "  print('Hello World')\n",
        "hello_world()\n"
      ]
    },
    {
      "cell_type": "code",
      "source": [
        "def func_argument(fname):\n",
        "  print(fname)\n",
        "\n",
        "func_argument('Alexander')\n",
        "func_argument('Rozario')\n",
        "func_argument('Martin')"
      ],
      "metadata": {
        "colab": {
          "base_uri": "https://localhost:8080/"
        },
        "id": "d7Xs8CfGGfel",
        "outputId": "d5cfbea1-97f2-463c-a204-0b1391879271"
      },
      "execution_count": null,
      "outputs": [
        {
          "output_type": "stream",
          "name": "stdout",
          "text": [
            "Alexander\n",
            "Rozario\n",
            "Martin\n"
          ]
        }
      ]
    },
    {
      "cell_type": "code",
      "source": [
        "def func_argument(fname,fage):\n",
        "  print(fname,fage)\n",
        "\n",
        "func_argument('Alexander',23)\n",
        "func_argument('Rozario',24)\n",
        "func_argument('Martin',36)"
      ],
      "metadata": {
        "colab": {
          "base_uri": "https://localhost:8080/"
        },
        "id": "PNVjwUceH2qL",
        "outputId": "1ffac8f4-f18d-456d-c528-eead8f664bde"
      },
      "execution_count": null,
      "outputs": [
        {
          "output_type": "stream",
          "name": "stdout",
          "text": [
            "Alexander 23\n",
            "Rozario 24\n",
            "Martin 36\n"
          ]
        }
      ]
    },
    {
      "cell_type": "code",
      "source": [
        "def arf_func(*nams):\n",
        "  print(nams)\n",
        "\n",
        "arf_func('tom','Jerry','Muller')"
      ],
      "metadata": {
        "colab": {
          "base_uri": "https://localhost:8080/"
        },
        "id": "XOIAf5u8IRsm",
        "outputId": "7542b271-d39f-4b3b-e91a-83a09cc9bd0d"
      },
      "execution_count": null,
      "outputs": [
        {
          "output_type": "stream",
          "name": "stdout",
          "text": [
            "('tom', 'Jerry', 'Muller')\n"
          ]
        }
      ]
    },
    {
      "cell_type": "code",
      "source": [
        "def arf_func(*nams):\n",
        "  print('kid',nams[2])\n",
        "\n",
        "arf_func('tom','Jerry','Muller')"
      ],
      "metadata": {
        "colab": {
          "base_uri": "https://localhost:8080/"
        },
        "id": "RD6hu5MCJPk4",
        "outputId": "82910764-e159-4254-cb23-4a293840dbfd"
      },
      "execution_count": null,
      "outputs": [
        {
          "output_type": "stream",
          "name": "stdout",
          "text": [
            "kid Muller\n"
          ]
        }
      ]
    },
    {
      "cell_type": "code",
      "source": [
        "def func_argument(fname,fage):\n",
        "  print('The youngest kid is',)\n",
        "\n",
        "func_argument(fname = 'Alexander',fage = 23)\n",
        "func_argument('Rozario',24)\n",
        "func_argument('Martin',36)"
      ],
      "metadata": {
        "id": "yWi9q7dKJmtf",
        "colab": {
          "base_uri": "https://localhost:8080/"
        },
        "outputId": "56b53219-8a3b-4ade-cdfc-e3baf7c42235"
      },
      "execution_count": null,
      "outputs": [
        {
          "output_type": "stream",
          "name": "stdout",
          "text": [
            "The youngest kid is\n",
            "The youngest kid is\n",
            "The youngest kid is\n"
          ]
        }
      ]
    },
    {
      "cell_type": "code",
      "source": [
        "def add(a,b):\n",
        "  print(a,'+',b,'=',a+b)\n",
        "\n",
        "def subtract(a,b):\n",
        "  print(a,'-',b,'=',a-b)\n",
        "\n",
        "def multiplication(a,b):\n",
        "  print(a,'*',b,'=',a*b)\n",
        "\n",
        "def division(a,b):\n",
        "  print(a,'/',b,'=',a/b)\n",
        "\n",
        "a=int(input('Enter first number '))\n",
        "b=int(input('Enter second number '))\n",
        "\n",
        "add(a,b)\n",
        "subtract(a,b)\n",
        "multiplication(a,b)\n",
        "division(a,b)"
      ],
      "metadata": {
        "colab": {
          "base_uri": "https://localhost:8080/"
        },
        "id": "SXImMQT6CdKa",
        "outputId": "1d93191a-27e6-429d-aade-fdb1b70c7829"
      },
      "execution_count": null,
      "outputs": [
        {
          "output_type": "stream",
          "name": "stdout",
          "text": [
            "Enter first number 20\n",
            "Enter second number 10\n",
            "20 + 10 = 30\n",
            "20 - 10 = 10\n",
            "20 * 10 = 200\n",
            "20 / 10 = 2.0\n"
          ]
        }
      ]
    },
    {
      "cell_type": "code",
      "source": [
        "def oddoreven(d):\n",
        "  if ((d%2)==0 ) :\n",
        "    print('Given Input',d,'is Even')\n",
        "  else :\n",
        "    print('Given Input',d,'is odd')\n",
        "\n",
        "d=int(input('Enter a number '))\n",
        "oddoreven(d)"
      ],
      "metadata": {
        "colab": {
          "base_uri": "https://localhost:8080/"
        },
        "id": "ApTt8DxZDP-K",
        "outputId": "cf7d34f8-c72a-49a0-f357-b39c3b75840f"
      },
      "execution_count": null,
      "outputs": [
        {
          "output_type": "stream",
          "name": "stdout",
          "text": [
            "Enter a number 25\n",
            "Given Input 25 is odd\n"
          ]
        }
      ]
    },
    {
      "cell_type": "code",
      "source": [
        "def fact(n):\n",
        "  r=1\n",
        "  for i in range (1,n+1):\n",
        "    r=r*i\n",
        "  print('Factoral of',n,'is : ')\n",
        "\n",
        "\n",
        "n = int(input('Enter a number: '))\n",
        "fact(n)"
      ],
      "metadata": {
        "id": "71-jiqNZFDwi",
        "colab": {
          "base_uri": "https://localhost:8080/"
        },
        "outputId": "df71eea7-7ddc-41cd-dac4-6c44af659d6c"
      },
      "execution_count": null,
      "outputs": [
        {
          "output_type": "stream",
          "name": "stdout",
          "text": [
            "Enter a number: 5\n",
            "Factoral of 5 is : \n"
          ]
        }
      ]
    },
    {
      "cell_type": "code",
      "source": [
        "def multiplication_table(x,y):\n",
        "  for i in range(1,y+1):\n",
        "    print(i,'*',x,'=',x*i)\n",
        "\n",
        "x = int(input('Enter the number '))\n",
        "y = int(input('Enter the range '))\n",
        "\n",
        "multiplication_table(x,y)"
      ],
      "metadata": {
        "colab": {
          "base_uri": "https://localhost:8080/"
        },
        "id": "XaxaIPMWIQx6",
        "outputId": "48141973-c0c9-4e38-afbe-b4cdbc16a15d"
      },
      "execution_count": null,
      "outputs": [
        {
          "output_type": "stream",
          "name": "stdout",
          "text": [
            "Enter the number 10\n",
            "Enter the range 10\n",
            "1 * 10 = 10\n",
            "2 * 10 = 20\n",
            "3 * 10 = 30\n",
            "4 * 10 = 40\n",
            "5 * 10 = 50\n",
            "6 * 10 = 60\n",
            "7 * 10 = 70\n",
            "8 * 10 = 80\n",
            "9 * 10 = 90\n",
            "10 * 10 = 100\n"
          ]
        }
      ]
    },
    {
      "cell_type": "code",
      "source": [
        "def armstrong(z):\n",
        "    d = str(z)\n",
        "    num = 0\n",
        "    for i in d:\n",
        "        f = int(i)\n",
        "        num += f ** len(d)\n",
        "    print(\"Calculated Sum:\", num)\n",
        "    if num == z:\n",
        "        print('Armstrong')\n",
        "    else:\n",
        "        print('Not Armstrong number')\n",
        "\n",
        "z = int(input('Enter the number: '))\n",
        "armstrong(z)\n"
      ],
      "metadata": {
        "colab": {
          "base_uri": "https://localhost:8080/"
        },
        "id": "RUDG9AmGJuXF",
        "outputId": "d5e42acb-8387-4fe9-cc9b-c3f9399e1405"
      },
      "execution_count": null,
      "outputs": [
        {
          "output_type": "stream",
          "name": "stdout",
          "text": [
            "Enter the number: 153\n",
            "Calculated Sum: 153\n",
            "Armstrong\n"
          ]
        }
      ]
    },
    {
      "cell_type": "code",
      "source": [
        "def fibonacci(x):\n",
        "  a=0\n",
        "  b=1\n",
        "  z = False\n",
        "  for i in range(0,x+1):\n",
        "    c=a+b\n",
        "    a=b\n",
        "    b=c\n",
        "    if(x==c):\n",
        "      z= True\n",
        "      break\n",
        "\n",
        "  if z :\n",
        "    print('The given input',x,'is a fibonacci number')\n",
        "  else :\n",
        "    print('The given input',x,'is not a fibonacci number')\n",
        "\n",
        "\n",
        "x=int(input('Enter a input '))\n",
        "fibonacci(x)"
      ],
      "metadata": {
        "colab": {
          "base_uri": "https://localhost:8080/"
        },
        "id": "ElX0WBwyMtw2",
        "outputId": "41fc1d45-9bf1-4dba-a5ef-90215e186609"
      },
      "execution_count": null,
      "outputs": [
        {
          "output_type": "stream",
          "name": "stdout",
          "text": [
            "Enter a input 13\n",
            "The given input 13 is a fibonacci number\n"
          ]
        }
      ]
    },
    {
      "cell_type": "code",
      "source": [],
      "metadata": {
        "id": "sjEoN5OQPAhv"
      },
      "execution_count": null,
      "outputs": []
    },
    {
      "cell_type": "code",
      "source": [],
      "metadata": {
        "id": "7fPKcehAV548"
      },
      "execution_count": null,
      "outputs": []
    }
  ]
}